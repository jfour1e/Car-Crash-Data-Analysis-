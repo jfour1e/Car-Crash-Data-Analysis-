{
 "cells": [
  {
   "cell_type": "code",
   "execution_count": 2,
   "metadata": {},
   "outputs": [],
   "source": [
    "import numpy as np\n",
    "from tensorflow import keras\n",
    "import tensorflow as tf\n",
    "import matplotlib.pyplot as plt\n",
    "import pandas as pd\n",
    "import seaborn as sb\n",
    "import scipy.stats as sc"
   ]
  },
  {
   "cell_type": "code",
   "execution_count": 30,
   "metadata": {},
   "outputs": [],
   "source": [
    "df = pd.read_csv('US_Accidents_March23.csv')"
   ]
  },
  {
   "cell_type": "code",
   "execution_count": 4,
   "metadata": {},
   "outputs": [
    {
     "data": {
      "image/png": "[encoded data removed]",
      "text/plain": [
       "<Figure size 640x480 with 1 Axes>"
      ]
     },
     "metadata": {},
     "output_type": "display_data"
    }
   ],
   "source": [
    "sevdf = df[\"Severity\"]\n",
    "#df = df.drop(\"Severity\", axis = 1)\n",
    "x = sevdf\n",
    "y = df[\"Precipitation(in)\"]\n",
    "plt.plot(x, y, 'o')\n",
    "plt.show()"
   ]
  },
  {
   "cell_type": "code",
   "execution_count": 35,
   "metadata": {},
   "outputs": [
    {
     "data": {
      "text/plain": [
       "\"import sklearn.linear_model as lm\\n\\nfrom sklearn.linear_model import LinearRegression\\n\\nlinear_model = LinearRegression()\\nx = x.to_numpy()\\nx = x.reshape(-1,1)\\nlinear_model.fit(x,y)\\ny_hat = linear_model.predict(x)\\nplt.plot(x,y,'o')\\nplt.plot(x,y_hat,'r')\""
      ]
     },
     "execution_count": 35,
     "metadata": {},
     "output_type": "execute_result"
    }
   ],
   "source": [
    "\"\"\"import sklearn.linear_model as lm\n",
    "\n",
    "from sklearn.linear_model import LinearRegression\n",
    "\n",
    "linear_model = LinearRegression()\n",
    "x = x.to_numpy()\n",
    "x = x.reshape(-1,1)\n",
    "linear_model.fit(x,y)\n",
    "y_hat = linear_model.predict(x)\n",
    "plt.plot(x,y,'o')\n",
    "plt.plot(x,y_hat,'r')\"\"\""
   ]
  },
  {
   "cell_type": "code",
   "execution_count": 35,
   "metadata": {},
   "outputs": [
    {
     "name": "stderr",
     "output_type": "stream",
     "text": [
      "/Library/Frameworks/Python.framework/Versions/3.10/lib/python3.10/site-packages/scipy/stats/_axis_nan_policy.py:523: RuntimeWarning: Precision loss occurred in moment calculation due to catastrophic cancellation. This occurs when the data are nearly identical. Results may be unreliable.\n",
      "  res = hypotest_fun_out(*samples, **kwds)\n",
      "/Library/Frameworks/Python.framework/Versions/3.10/lib/python3.10/site-packages/scipy/stats/_stats_py.py:7030: RuntimeWarning: invalid value encountered in scalar divide\n",
      "  svar = ((n1 - 1) * v1 + (n2 - 1) * v2) / df\n"
     ]
    },
    {
     "ename": "TypeError",
     "evalue": "unsupported operand type(s) for %: 'list' and 'float'",
     "output_type": "error",
     "traceback": [
      "\u001b[0;31m---------------------------------------------------------------------------\u001b[0m",
      "\u001b[0;31mTypeError\u001b[0m                                 Traceback (most recent call last)",
      "\u001b[1;32m/Users/jaypatel/Documents/GitHub/DS110-Final-Project-/Main.ipynb Cell 5\u001b[0m line \u001b[0;36m3\n\u001b[1;32m     <a href='vscode-notebook-cell:/Users/jaypatel/Documents/GitHub/DS110-Final-Project-/Main.ipynb#W4sZmlsZQ%3D%3D?line=32'>33</a>\u001b[0m             pval\u001b[39m.\u001b[39mappend(p)\n\u001b[1;32m     <a href='vscode-notebook-cell:/Users/jaypatel/Documents/GitHub/DS110-Final-Project-/Main.ipynb#W4sZmlsZQ%3D%3D?line=34'>35</a>\u001b[0m pval\u001b[39m.\u001b[39msort()\n\u001b[0;32m---> <a href='vscode-notebook-cell:/Users/jaypatel/Documents/GitHub/DS110-Final-Project-/Main.ipynb#W4sZmlsZQ%3D%3D?line=35'>36</a>\u001b[0m \u001b[39mprint\u001b[39m(\u001b[39mf\u001b[39m\u001b[39m\"\u001b[39m\u001b[39m{\u001b[39;00mpval[:\u001b[39m5\u001b[39m]\u001b[39m%\u001b[39m\u001b[39m.10\u001b[39m\u001b[39m}\u001b[39;00m\u001b[39m\"\u001b[39m)\n",
      "\u001b[0;31mTypeError\u001b[0m: unsupported operand type(s) for %: 'list' and 'float'"
     ]
    }
   ],
   "source": [
    "cond = df\n",
    "\n",
    "# Reset index while extrapolating Severity values into lists\n",
    "cond_lists = cond.groupby(\"Weather_Condition\")[\"Severity\"].apply(list).reset_index()\n",
    "\n",
    "# Compare unique weather conditions\n",
    "conditions = cond_lists['Weather_Condition'].unique()\n",
    "\n",
    "pval = []\n",
    "\n",
    "for i in range(len(conditions)):\n",
    "    condition1 = conditions[i]\n",
    "\n",
    "    # Extract severity values list for condition1\n",
    "    severity1 = cond_lists.loc[cond_lists['Weather_Condition'] == condition1, 'Severity'].values[0]\n",
    "\n",
    "    for j in range(i + 1, len(conditions)):\n",
    "        condition2 = conditions[j]\n",
    "\n",
    "        # Extract severity values list for condition2\n",
    "        severity2 = cond_lists.loc[cond_lists['Weather_Condition'] == condition2, 'Severity'].values[0]\n",
    "\n",
    "        # Perform t-test\n",
    "        _, p = sc.ttest_ind(severity1, severity2, nan_policy='omit')\n",
    "\n",
    "        alpha = 0.05\n",
    "\n",
    "        # Checks statistical significance (if p < 0.05)\n",
    "        if p < alpha:\n",
    "            #print(f\"T-test between {condition1} and {condition2}:\")\n",
    "            #print(f\"P-value: {p}\")\n",
    "            #print()\n",
    "            # Append values to list to print later\n",
    "            pval.append(p)\n",
    "\n",
    "# Print first 5 values of sorted list\n",
    "pval.sort()\n",
    "print(f\"{pval[:5]}\")"
   ]
  }
 ],
 "metadata": {
  "kernelspec": {
   "display_name": "Python 3",
   "language": "python",
   "name": "python3"
  },
  "language_info": {
   "codemirror_mode": {
    "name": "ipython",
    "version": 3
   },
   "file_extension": ".py",
   "mimetype": "text/x-python",
   "name": "python",
   "nbconvert_exporter": "python",
   "pygments_lexer": "ipython3",
   "version": "3.10.2"
  }
 },
 "nbformat": 4,
 "nbformat_minor": 2
}

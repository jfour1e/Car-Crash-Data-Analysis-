{
 "cells": [
  {
   "cell_type": "code",
   "execution_count": 1,
   "metadata": {},
   "outputs": [],
   "source": [
    "#import the dataset and strip off unwanted columns \n",
    "import pandas as pd\n",
    "\n",
    "df = pd.read_csv('US_Accidents_March23.csv', dtype={\"fips\": str})\n",
    "df = df[['Severity', 'Start_Time', 'End_Time', 'Start_Lat', 'Start_Lng', 'End_Lat', 'End_Lng', 'Distance(mi)', 'Street', 'City', 'County', 'State', 'Zipcode', 'Temperature(F)','Wind_Chill(F)', 'Humidity(%)','Pressure(in)', 'Visibility(mi)', 'Wind_Speed(mph)', 'Precipitation(in)', 'Weather_Condition', 'Crossing', 'Junction', 'Stop', 'Traffic_Signal', 'Sunrise_Sunset']]"
   ]
  },
  {
   "cell_type": "code",
   "execution_count": null,
   "metadata": {},
   "outputs": [],
   "source": [
    "df[['Zipcode', 'Mailing_Zip']] = df['Zipcode'].str.split('-', expand=True)\n"
   ]
  },
  {
   "cell_type": "code",
   "execution_count": null,
   "metadata": {},
   "outputs": [],
   "source": [
    "import numpy as np\n",
    "county_entry_counts = df.groupby('Zipcode').size().reset_index(name='entry_count')\n",
    "\n",
    "county_entry_counts['entry_count_scaled'] = np.log10(county_entry_counts['entry_count'])\n",
    "\n",
    "print(county_entry_counts)\n"
   ]
  },
  {
   "cell_type": "code",
   "execution_count": 27,
   "metadata": {},
   "outputs": [],
   "source": [
    "#import the geojson for US counties \n",
    "from urllib.request import urlopen\n",
    "import json\n",
    "with urlopen('https://raw.githubusercontent.com/plotly/datasets/master/geojson-counties-fips.json') as response:\n",
    "    counties = json.load(response)"
   ]
  },
  {
   "cell_type": "code",
   "execution_count": null,
   "metadata": {},
   "outputs": [],
   "source": [
    "print(json.dumps(counties, indent=2))"
   ]
  },
  {
   "cell_type": "code",
   "execution_count": 45,
   "metadata": {},
   "outputs": [],
   "source": [
    "import plotly.express as px\n",
    "import plotly.io as pio\n",
    "pio.renderers.default = 'firefox'\n",
    "\n",
    "fig = px.choropleth_mapbox(\n",
    "    county_entry_counts,\n",
    "    geojson=counties,\n",
    "    locations= county_entry_counts['Zipcode'], \n",
    "    color='entry_count_scaled', \n",
    "    hover_name='Zipcode', \n",
    "    mapbox_style=\"carto-positron\",\n",
    "    center=dict(lat=37.0902, lon=-95.7129),\n",
    "    zoom=3,\n",
    "    opacity=0.7,\n",
    "    title='Density Car Crash Map of the Continental US'\n",
    ")\n",
    "\n",
    "fig.update_layout(\n",
    "    coloraxis_colorbar=dict(\n",
    "        title='Density'\n",
    "        # Adjust tick labels as needed\n",
    "    )\n",
    ")\n",
    "\n",
    "fig.show()"
   ]
  },
  {
   "cell_type": "code",
   "execution_count": 28,
   "metadata": {},
   "outputs": [
    {
     "name": "stdout",
     "output_type": "stream",
     "text": [
      "   State  entry_count\n",
      "0     01       101044\n",
      "1     02        22780\n",
      "2     03       170609\n",
      "3     04      1741433\n",
      "4     05        90885\n",
      "5     06        71005\n",
      "6     07        18630\n",
      "7     08        14097\n",
      "8     09       880192\n",
      "9     10       169234\n",
      "10    11        26307\n",
      "11    12        11376\n",
      "12    13       168958\n",
      "13    14        67224\n",
      "14    15        20992\n",
      "15    16        32254\n",
      "16    17       149701\n",
      "17    18        61996\n",
      "18    19       140417\n",
      "19    20         2698\n",
      "20    21       162191\n",
      "21    22       192084\n",
      "22    23        77323\n",
      "23    24        15181\n",
      "24    25        28496\n",
      "25    26       338199\n",
      "26    27         3487\n",
      "27    28        28870\n",
      "28    29        10213\n",
      "29    30       140719\n",
      "30    31        10325\n",
      "31    32        21665\n",
      "32    33       347960\n",
      "33    34       118115\n",
      "34    35        83647\n",
      "35    36       179660\n",
      "36    37       296620\n",
      "37    38        16971\n",
      "38    39       382557\n",
      "39    40          289\n",
      "40    41       167388\n",
      "41    42       582837\n",
      "42    43        97079\n",
      "43    44       303301\n",
      "44    45          926\n",
      "45    46       108221\n",
      "46    47        34688\n",
      "47    48        13793\n",
      "48    49         3757\n"
     ]
    }
   ],
   "source": [
    "import numpy as np\n",
    "state_entry_counts = df.groupby('State').size().reset_index(name='entry_count')\n",
    "\n",
    "#county_entry_counts['entry_count_scaled'] = np.log10(county_entry_counts['entry_count'])\n",
    "state_entry_counts['State'] = (state_entry_counts.index + 1).map(lambda x: '{:02d}'.format(x))\n",
    "\n",
    "print(state_entry_counts)"
   ]
  },
  {
   "cell_type": "code",
   "execution_count": null,
   "metadata": {},
   "outputs": [],
   "source": []
  },
  {
   "cell_type": "code",
   "execution_count": 31,
   "metadata": {},
   "outputs": [],
   "source": [
    "import plotly.express as px\n",
    "import plotly.io as pio\n",
    "pio.renderers.default = 'firefox'\n",
    "\n",
    "fig = px.choropleth_mapbox(\n",
    "    state_entry_counts,\n",
    "    geojson=counties,\n",
    "    locations= state_entry_counts['State'],  # Replace 'FIPS' with the actual column name in your DataFrame\n",
    "    color='entry_count',  # Replace 'Density' with the column you want to visualize\n",
    "    hover_name='State',  # Replace 'County' with the column containing county names\n",
    "    mapbox_style=\"carto-positron\",\n",
    "    center=dict(lat=37.0902, lon=-95.7129),\n",
    "    zoom=3,\n",
    "    opacity=0.7,\n",
    "    title='Density Car Crash Map of the Continental US'\n",
    ")\n",
    "\n",
    "fig.update_layout(\n",
    "    coloraxis_colorbar=dict(\n",
    "        title='Density'\n",
    "        # Adjust tick labels as needed\n",
    "    )\n",
    ")\n",
    "\n",
    "fig.show()"
   ]
  },
  {
   "cell_type": "code",
   "execution_count": 9,
   "metadata": {},
   "outputs": [],
   "source": [
    "from dash import Dash, html, dash_table, dcc\n",
    "import plotly.express as px\n",
    "import pandas as pd"
   ]
  }
 ],
 "metadata": {
  "kernelspec": {
   "display_name": "Python 3.10.2 64-bit",
   "language": "python",
   "name": "python3"
  },
  "language_info": {
   "codemirror_mode": {
    "name": "ipython",
    "version": 3
   },
   "file_extension": ".py",
   "mimetype": "text/x-python",
   "name": "python",
   "nbconvert_exporter": "python",
   "pygments_lexer": "ipython3",
   "version": "3.10.2"
  },
  "vscode": {
   "interpreter": {
    "hash": "aee8b7b246df8f9039afb4144a1f6fd8d2ca17a180786b69acc140d282b71a49"
   }
  }
 },
 "nbformat": 4,
 "nbformat_minor": 2
}
